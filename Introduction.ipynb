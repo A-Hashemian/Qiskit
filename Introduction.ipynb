{
 "cells": [
  {
   "cell_type": "code",
   "execution_count": 5,
   "id": "5496ef60",
   "metadata": {},
   "outputs": [],
   "source": [
    "from qiskit import QuantumCircuit "
   ]
  },
  {
   "cell_type": "code",
   "execution_count": 16,
   "id": "2cd710bd",
   "metadata": {},
   "outputs": [],
   "source": [
    "circ=QuantumCircuit(3)"
   ]
  },
  {
   "cell_type": "code",
   "execution_count": 17,
   "id": "ce969ae3",
   "metadata": {},
   "outputs": [
    {
     "data": {
      "text/plain": [
       "<qiskit.circuit.instructionset.InstructionSet at 0x10ebbe87130>"
      ]
     },
     "execution_count": 17,
     "metadata": {},
     "output_type": "execute_result"
    }
   ],
   "source": [
    "circ.h(0)\n",
    "circ.cx(0,1)"
   ]
  },
  {
   "cell_type": "code",
   "execution_count": 18,
   "id": "8d9c069b",
   "metadata": {},
   "outputs": [
    {
     "data": {
      "text/html": [
       "<pre style=\"word-wrap: normal;white-space: pre;background: #fff0;line-height: 1.1;font-family: &quot;Courier New&quot;,Courier,monospace\">     ┌───┐     \n",
       "q_0: ┤ H ├──■──\n",
       "     └───┘┌─┴─┐\n",
       "q_1: ─────┤ X ├\n",
       "          └───┘\n",
       "q_2: ──────────\n",
       "               </pre>"
      ],
      "text/plain": [
       "     ┌───┐     \n",
       "q_0: ┤ H ├──■──\n",
       "     └───┘┌─┴─┐\n",
       "q_1: ─────┤ X ├\n",
       "          └───┘\n",
       "q_2: ──────────\n",
       "               "
      ]
     },
     "execution_count": 18,
     "metadata": {},
     "output_type": "execute_result"
    }
   ],
   "source": [
    "circ.draw()"
   ]
  },
  {
   "cell_type": "code",
   "execution_count": 19,
   "id": "dede6417",
   "metadata": {},
   "outputs": [],
   "source": [
    "for x in range(3):\n",
    "    circ.h(x)"
   ]
  },
  {
   "cell_type": "code",
   "execution_count": 20,
   "id": "2c8a4aab",
   "metadata": {},
   "outputs": [
    {
     "data": {
      "text/html": [
       "<pre style=\"word-wrap: normal;white-space: pre;background: #fff0;line-height: 1.1;font-family: &quot;Courier New&quot;,Courier,monospace\">     ┌───┐     ┌───┐\n",
       "q_0: ┤ H ├──■──┤ H ├\n",
       "     └───┘┌─┴─┐├───┤\n",
       "q_1: ─────┤ X ├┤ H ├\n",
       "     ┌───┐└───┘└───┘\n",
       "q_2: ┤ H ├──────────\n",
       "     └───┘          </pre>"
      ],
      "text/plain": [
       "     ┌───┐     ┌───┐\n",
       "q_0: ┤ H ├──■──┤ H ├\n",
       "     └───┘┌─┴─┐├───┤\n",
       "q_1: ─────┤ X ├┤ H ├\n",
       "     ┌───┐└───┘└───┘\n",
       "q_2: ┤ H ├──────────\n",
       "     └───┘          "
      ]
     },
     "execution_count": 20,
     "metadata": {},
     "output_type": "execute_result"
    }
   ],
   "source": [
    "circ.draw()"
   ]
  },
  {
   "cell_type": "code",
   "execution_count": 23,
   "id": "66d6826b",
   "metadata": {},
   "outputs": [
    {
     "data": {
      "text/plain": [
       "3"
      ]
     },
     "execution_count": 23,
     "metadata": {},
     "output_type": "execute_result"
    }
   ],
   "source": [
    "#the number of qubits in this circuit is equal to the width of the circuit:\n",
    "circ.width()"
   ]
  },
  {
   "cell_type": "code",
   "execution_count": 25,
   "id": "f49198a2",
   "metadata": {},
   "outputs": [
    {
     "data": {
      "text/plain": [
       "3"
      ]
     },
     "execution_count": 25,
     "metadata": {},
     "output_type": "execute_result"
    }
   ],
   "source": [
    "#We can also just get the number of qubits directly\n",
    "circ.num_qubits"
   ]
  },
  {
   "cell_type": "code",
   "execution_count": 26,
   "id": "c2de5cd9",
   "metadata": {},
   "outputs": [
    {
     "data": {
      "text/plain": [
       "OrderedDict([('h', 4), ('cx', 1)])"
      ]
     },
     "execution_count": 26,
     "metadata": {},
     "output_type": "execute_result"
    }
   ],
   "source": [
    "#to get the number and type of the gates in a circuit using QuantumCircuit.count_ops():\n",
    "circ.count_ops()"
   ]
  },
  {
   "cell_type": "code",
   "execution_count": 28,
   "id": "a0b52990",
   "metadata": {},
   "outputs": [
    {
     "data": {
      "text/plain": [
       "3"
      ]
     },
     "execution_count": 28,
     "metadata": {},
     "output_type": "execute_result"
    }
   ],
   "source": [
    "circ.depth()"
   ]
  },
  {
   "cell_type": "code",
   "execution_count": 29,
   "id": "28f7dc22",
   "metadata": {},
   "outputs": [
    {
     "data": {
      "text/plain": [
       "<qiskit.circuit.instructionset.InstructionSet at 0x10ebbe877c0>"
      ]
     },
     "execution_count": 29,
     "metadata": {},
     "output_type": "execute_result"
    }
   ],
   "source": [
    "circ.cx(0,2)"
   ]
  },
  {
   "cell_type": "code",
   "execution_count": 30,
   "id": "68c24dab",
   "metadata": {},
   "outputs": [
    {
     "data": {
      "text/html": [
       "<pre style=\"word-wrap: normal;white-space: pre;background: #fff0;line-height: 1.1;font-family: &quot;Courier New&quot;,Courier,monospace\">     ┌───┐     ┌───┐     \n",
       "q_0: ┤ H ├──■──┤ H ├──■──\n",
       "     └───┘┌─┴─┐├───┤  │  \n",
       "q_1: ─────┤ X ├┤ H ├──┼──\n",
       "     ┌───┐└───┘└───┘┌─┴─┐\n",
       "q_2: ┤ H ├──────────┤ X ├\n",
       "     └───┘          └───┘</pre>"
      ],
      "text/plain": [
       "     ┌───┐     ┌───┐     \n",
       "q_0: ┤ H ├──■──┤ H ├──■──\n",
       "     └───┘┌─┴─┐├───┤  │  \n",
       "q_1: ─────┤ X ├┤ H ├──┼──\n",
       "     ┌───┐└───┘└───┘┌─┴─┐\n",
       "q_2: ┤ H ├──────────┤ X ├\n",
       "     └───┘          └───┘"
      ]
     },
     "execution_count": 30,
     "metadata": {},
     "output_type": "execute_result"
    }
   ],
   "source": [
    "circ.draw()"
   ]
  },
  {
   "cell_type": "code",
   "execution_count": 31,
   "id": "6e846b6e",
   "metadata": {},
   "outputs": [
    {
     "data": {
      "text/plain": [
       "4"
      ]
     },
     "execution_count": 31,
     "metadata": {},
     "output_type": "execute_result"
    }
   ],
   "source": [
    "circ.depth()"
   ]
  },
  {
   "cell_type": "code",
   "execution_count": 32,
   "id": "203d257a",
   "metadata": {},
   "outputs": [
    {
     "data": {
      "text/plain": [
       "<qiskit.circuit.instructionset.InstructionSet at 0x10ebbe87490>"
      ]
     },
     "execution_count": 32,
     "metadata": {},
     "output_type": "execute_result"
    }
   ],
   "source": [
    "circ.cx(0,1)"
   ]
  },
  {
   "cell_type": "code",
   "execution_count": 33,
   "id": "7bc4dcc1",
   "metadata": {},
   "outputs": [
    {
     "data": {
      "text/html": [
       "<pre style=\"word-wrap: normal;white-space: pre;background: #fff0;line-height: 1.1;font-family: &quot;Courier New&quot;,Courier,monospace\">     ┌───┐     ┌───┐          \n",
       "q_0: ┤ H ├──■──┤ H ├──■────■──\n",
       "     └───┘┌─┴─┐├───┤  │  ┌─┴─┐\n",
       "q_1: ─────┤ X ├┤ H ├──┼──┤ X ├\n",
       "     ┌───┐└───┘└───┘┌─┴─┐└───┘\n",
       "q_2: ┤ H ├──────────┤ X ├─────\n",
       "     └───┘          └───┘     </pre>"
      ],
      "text/plain": [
       "     ┌───┐     ┌───┐          \n",
       "q_0: ┤ H ├──■──┤ H ├──■────■──\n",
       "     └───┘┌─┴─┐├───┤  │  ┌─┴─┐\n",
       "q_1: ─────┤ X ├┤ H ├──┼──┤ X ├\n",
       "     ┌───┐└───┘└───┘┌─┴─┐└───┘\n",
       "q_2: ┤ H ├──────────┤ X ├─────\n",
       "     └───┘          └───┘     "
      ]
     },
     "execution_count": 33,
     "metadata": {},
     "output_type": "execute_result"
    }
   ],
   "source": [
    "circ.draw()"
   ]
  },
  {
   "cell_type": "code",
   "execution_count": 34,
   "id": "3fce4fc5",
   "metadata": {},
   "outputs": [
    {
     "data": {
      "text/plain": [
       "5"
      ]
     },
     "execution_count": 34,
     "metadata": {},
     "output_type": "execute_result"
    }
   ],
   "source": [
    "circ.depth()"
   ]
  },
  {
   "cell_type": "code",
   "execution_count": null,
   "id": "a2456fd0",
   "metadata": {},
   "outputs": [],
   "source": []
  }
 ],
 "metadata": {
  "kernelspec": {
   "display_name": "Python 3",
   "language": "python",
   "name": "python3"
  },
  "language_info": {
   "codemirror_mode": {
    "name": "ipython",
    "version": 3
   },
   "file_extension": ".py",
   "mimetype": "text/x-python",
   "name": "python",
   "nbconvert_exporter": "python",
   "pygments_lexer": "ipython3",
   "version": "3.8.8"
  }
 },
 "nbformat": 4,
 "nbformat_minor": 5
}
